{
 "metadata": {
  "language_info": {
   "codemirror_mode": {
    "name": "ipython",
    "version": 3
   },
   "file_extension": ".py",
   "mimetype": "text/x-python",
   "name": "python",
   "nbconvert_exporter": "python",
   "pygments_lexer": "ipython3",
   "version": 3
  },
  "orig_nbformat": 2
 },
 "nbformat": 4,
 "nbformat_minor": 2,
 "cells": [
  {
   "source": [
    "# AutoMap"
   ],
   "cell_type": "markdown",
   "metadata": {}
  },
  {
   "source": [
    "## DataLoader"
   ],
   "cell_type": "markdown",
   "metadata": {}
  },
  {
   "cell_type": "code",
   "execution_count": null,
   "metadata": {},
   "outputs": [],
   "source": [
    "import torch\n",
    "from torch.utils.data import Dataset\n",
    "import nibabel as nib\n",
    "import numpy as np\n",
    "\n",
    "\n",
    "class AutoMap_train(Dataset):\n",
    "    def __init__(self, path, modulation):\n",
    "        self.nii = nib.load(path).get_data()  # nii 3D影像数据\n",
    "        self.xlen = len(self.nii)\n",
    "        self.ylen = len(self.nii[0])\n",
    "        self.zlen = len(self.nii[0][0])\n",
    "        self.t = 5\n",
    "        self.modulation = modulation\n",
    "    \n",
    "    def __getitem__(self, index):\n",
    "        # 每张图片有 self.t 种变换版本, index 的位置决定切片的方式\n",
    "        if index < self.t * self.xlen:\n",
    "            img = self.nii[index, :, :]\n",
    "        elif index < self.t * (self.xlen + self.ylen):\n",
    "            img = self.nii[:, index, :]\n",
    "        else img = self.nii[:, :, index]\n",
    "\n",
    "        # 做图像增强\n",
    "        # {0: origin, 1: 90, 2: 180, 3: 270, 4: randomcrop}\n",
    "        mode = index % self.t\n",
    "        augment = {0: self.origin, 1: self.rotate, 2: self.rotate, 3: self.rotate, 4: self.randomcrop}\n",
    "        if mode == 0 or mode == 4:\n",
    "            img = augment[mode](img)\n",
    "        else:\n",
    "            img = augment[mode](img, mode * 90)  # 图像旋转\n",
    "\n",
    "        # raw 是经过 img FFT 变换的 k-space\n",
    "        # 我们需要把 raw 转化为 n^2 个参数的 magnitude 和 phase\n",
    "        raw = np.fft.fft2(img, \"ortho\")\n",
    "        \n",
    "        if self.modulation==\"Magnitude\":\n",
    "            return np.real(raw).reshape(1, -1), img\n",
    "        else:\n",
    "            return np.angle(raw).reshape(1, -1), img\n",
    "\n",
    "    def __len__(self):\n",
    "        return self.t * (self.xlen + self.ylen + self.zlen)\n",
    "    \n",
    "    def origin(self, img):\n",
    "        return img\n",
    "    \n",
    "    def resize(self, img):\n",
    "        pass\n",
    "\n",
    "    def randomcrop(self, img):\n",
    "        pass\n",
    "\n",
    "    def rotate(self, img, degree):\n",
    "        pass\n"
   ]
  },
  {
   "source": [
    "## 模型"
   ],
   "cell_type": "markdown",
   "metadata": {}
  },
  {
   "cell_type": "code",
   "execution_count": null,
   "metadata": {},
   "outputs": [],
   "source": [
    "import torch.nn as nn\n",
    "import torch.nn.functional as F\n",
    "\n",
    "class AutoMap(nn.Module):\n",
    "    def __init__(self):\n",
    "        super(AutoMap, self).__init__()"
   ]
  }
 ]
}